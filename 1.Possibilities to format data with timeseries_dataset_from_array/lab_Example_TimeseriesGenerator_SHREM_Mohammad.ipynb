{
  "nbformat": 4,
  "nbformat_minor": 0,
  "metadata": {
    "colab": {
      "provenance": []
    },
    "kernelspec": {
      "name": "python3",
      "display_name": "Python 3"
    }
  },
  "cells": [
    {
      "cell_type": "markdown",
      "metadata": {
        "id": "aS7AKchxjUf9"
      },
      "source": [
        "## Univariate one step problem with mlp"
      ]
    },
    {
      "cell_type": "code",
      "source": [
        "from numpy import array\n",
        "from tensorflow.keras.models import Sequential\n",
        "from tensorflow.keras.layers import Dense\n",
        "from tensorflow.keras.utils import timeseries_dataset_from_array\n",
        "import warnings\n",
        "\n",
        "warnings.filterwarnings(\"ignore\")\n",
        "\n",
        "# Define dataset\n",
        "series = array([1, 2, 3, 4, 5, 6, 7, 8, 9, 10])\n",
        "\n",
        "# Define parameters\n",
        "n_input = 2\n",
        "batch_size = 5\n",
        "\n",
        "# Prepare dataset using timeseries_dataset_from_array\n",
        "x_data = series[:-1]  # Exclude the last element for inputs\n",
        "y_data = series[n_input:]  # Targets start after the first `n_input` elements\n",
        "\n",
        "dataset = timeseries_dataset_from_array(\n",
        "    data=x_data,\n",
        "    targets=y_data,\n",
        "    sequence_length=n_input,\n",
        "    sequence_stride=1,\n",
        "    batch_size=batch_size\n",
        ")\n",
        "\n",
        "# Print each data sample\n",
        "for x_batch, y_batch in dataset:\n",
        "    print(f\"{x_batch.numpy()} => {y_batch.numpy()}\")\n",
        "\n",
        "# Define model\n",
        "model = Sequential()\n",
        "model.add(Dense(20, activation='relu', input_dim=n_input))\n",
        "model.add(Dense(1))\n",
        "model.compile(optimizer='adam', loss='mse')\n",
        "\n",
        "# Fit model\n",
        "model.fit(dataset, epochs=200, verbose=0)\n",
        "\n",
        "# Make a one-step prediction out of sample\n",
        "x_input = array([9, 10]).reshape((1, n_input))\n",
        "print(x_input)\n",
        "y_output = model.predict(x_input, verbose=0)\n",
        "print(y_output)\n"
      ],
      "metadata": {
        "colab": {
          "base_uri": "https://localhost:8080/"
        },
        "id": "A5WPdKkxNpoY",
        "outputId": "c8e61838-9445-4da6-d2eb-0c5d44701efb"
      },
      "execution_count": 5,
      "outputs": [
        {
          "output_type": "stream",
          "name": "stdout",
          "text": [
            "[[1 2]\n",
            " [2 3]\n",
            " [3 4]\n",
            " [4 5]\n",
            " [5 6]] => [3 4 5 6 7]\n",
            "[[6 7]\n",
            " [7 8]\n",
            " [8 9]] => [ 8  9 10]\n",
            "[[ 9 10]]\n",
            "[[11.447251]]\n"
          ]
        }
      ]
    },
    {
      "cell_type": "markdown",
      "metadata": {
        "id": "bB27Z66hkyMZ"
      },
      "source": [
        "## Univariate one step problem with LSTM"
      ]
    },
    {
      "cell_type": "code",
      "source": [
        "from numpy import array\n",
        "from keras.models import Sequential\n",
        "from keras.layers import Dense, LSTM\n",
        "from keras.utils import timeseries_dataset_from_array\n",
        "import warnings\n",
        "\n",
        "warnings.filterwarnings(\"ignore\")\n",
        "\n",
        "# Define dataset\n",
        "series = array([1, 2, 3, 4, 5, 6, 7, 8, 9, 10])\n",
        "print(series)\n",
        "\n",
        "# Reshape to [10, 1]\n",
        "n_features = 1\n",
        "series = series.reshape((len(series), n_features))\n",
        "print(series)\n",
        "\n",
        "# Define generator using timeseries_dataset_from_array\n",
        "n_input = 2\n",
        "batch_size = 5\n",
        "\n",
        "dataset = timeseries_dataset_from_array(\n",
        "    data=series[:-1],  # Exclude the last value for input sequences\n",
        "    targets=series[n_input:],  # Targets start after the first n_input values\n",
        "    sequence_length=n_input,\n",
        "    sequence_stride=1,\n",
        "    batch_size=batch_size\n",
        ")\n",
        "\n",
        "# Print each sample\n",
        "for x, y in dataset:\n",
        "    print(f\"{x.numpy()} => {y.numpy()}\")\n",
        "\n",
        "# Define model\n",
        "model = Sequential()\n",
        "model.add(LSTM(20, activation='relu', input_shape=(n_input, n_features)))\n",
        "model.add(Dense(1))\n",
        "model.compile(optimizer='adam', loss='mse')\n",
        "\n",
        "# Fit model\n",
        "model.fit(dataset, epochs=400, verbose=0)\n",
        "\n",
        "# Make a one-step prediction out of sample\n",
        "x_input = array([9, 10]).reshape((1, n_input, n_features))\n",
        "y_output = model.predict(x_input, verbose=0)\n",
        "print(y_output)\n"
      ],
      "metadata": {
        "colab": {
          "base_uri": "https://localhost:8080/"
        },
        "id": "XdjIrv6DTRL0",
        "outputId": "01e05228-5cd0-4b70-ef7a-dfbc52da7d45"
      },
      "execution_count": 6,
      "outputs": [
        {
          "output_type": "stream",
          "name": "stdout",
          "text": [
            "[ 1  2  3  4  5  6  7  8  9 10]\n",
            "[[ 1]\n",
            " [ 2]\n",
            " [ 3]\n",
            " [ 4]\n",
            " [ 5]\n",
            " [ 6]\n",
            " [ 7]\n",
            " [ 8]\n",
            " [ 9]\n",
            " [10]]\n",
            "[[[1]\n",
            "  [2]]\n",
            "\n",
            " [[2]\n",
            "  [3]]\n",
            "\n",
            " [[3]\n",
            "  [4]]\n",
            "\n",
            " [[4]\n",
            "  [5]]\n",
            "\n",
            " [[5]\n",
            "  [6]]] => [[3]\n",
            " [4]\n",
            " [5]\n",
            " [6]\n",
            " [7]]\n",
            "[[[6]\n",
            "  [7]]\n",
            "\n",
            " [[7]\n",
            "  [8]]\n",
            "\n",
            " [[8]\n",
            "  [9]]] => [[ 8]\n",
            " [ 9]\n",
            " [10]]\n",
            "[[10.740629]]\n"
          ]
        }
      ]
    },
    {
      "cell_type": "markdown",
      "metadata": {
        "id": "VI_66sHpqDiN"
      },
      "source": [
        "## Multivariate one step problem with LSTM - same data for input and output\n",
        "\n"
      ]
    },
    {
      "cell_type": "code",
      "source": [
        "from numpy import array, hstack\n",
        "from keras.models import Sequential\n",
        "from keras.layers import Dense, LSTM\n",
        "from keras.utils import timeseries_dataset_from_array\n",
        "import warnings\n",
        "\n",
        "warnings.filterwarnings(\"ignore\")\n",
        "\n",
        "# Define dataset\n",
        "in_seq1 = array([10, 20, 30, 40, 50, 60, 70, 80, 90, 100])\n",
        "in_seq2 = array([15, 25, 35, 45, 55, 65, 75, 85, 95, 105])\n",
        "# Reshape series\n",
        "in_seq1 = in_seq1.reshape((len(in_seq1), 1))\n",
        "in_seq2 = in_seq2.reshape((len(in_seq2), 1))\n",
        "# Horizontally stack columns\n",
        "dataset = hstack((in_seq1, in_seq2))\n",
        "print(dataset)\n",
        "\n",
        "# Define parameters\n",
        "n_features = dataset.shape[1]\n",
        "print(\"n_features = %d\" % n_features)\n",
        "n_input = 2\n",
        "batch_size = 5\n",
        "\n",
        "# Create dataset using timeseries_dataset_from_array\n",
        "data = dataset[:-1]  # Exclude the last row for input sequences\n",
        "targets = dataset[n_input:]  # Targets start after the first `n_input` rows\n",
        "\n",
        "dataset_generator = timeseries_dataset_from_array(\n",
        "    data=data,\n",
        "    targets=targets,\n",
        "    sequence_length=n_input,\n",
        "    sequence_stride=1,\n",
        "    batch_size=batch_size\n",
        ")\n",
        "\n",
        "# Print each sample\n",
        "for x, y in dataset_generator:\n",
        "    print(f\"{x.numpy()} => {y.numpy()}\")\n",
        "\n",
        "# Define model\n",
        "model = Sequential()\n",
        "model.add(LSTM(20, activation='relu', input_shape=(n_input, n_features)))\n",
        "model.add(Dense(n_features))\n",
        "model.compile(optimizer='adam', loss='mse')\n",
        "\n",
        "# Fit model\n",
        "model.fit(dataset_generator, epochs=400, verbose=0)\n",
        "\n",
        "# Make a one-step prediction out of sample\n",
        "x_input = array([[90, 95], [100, 105]]).reshape((1, n_input, n_features))\n",
        "y_output = model.predict(x_input, verbose=0)\n",
        "print(y_output)\n"
      ],
      "metadata": {
        "colab": {
          "base_uri": "https://localhost:8080/"
        },
        "id": "0vSV_1MCT-6r",
        "outputId": "a30360f9-276b-4cf1-d6b4-57ada292dd2c"
      },
      "execution_count": 7,
      "outputs": [
        {
          "output_type": "stream",
          "name": "stdout",
          "text": [
            "[[ 10  15]\n",
            " [ 20  25]\n",
            " [ 30  35]\n",
            " [ 40  45]\n",
            " [ 50  55]\n",
            " [ 60  65]\n",
            " [ 70  75]\n",
            " [ 80  85]\n",
            " [ 90  95]\n",
            " [100 105]]\n",
            "n_features = 2\n",
            "[[[10 15]\n",
            "  [20 25]]\n",
            "\n",
            " [[20 25]\n",
            "  [30 35]]\n",
            "\n",
            " [[30 35]\n",
            "  [40 45]]\n",
            "\n",
            " [[40 45]\n",
            "  [50 55]]\n",
            "\n",
            " [[50 55]\n",
            "  [60 65]]] => [[30 35]\n",
            " [40 45]\n",
            " [50 55]\n",
            " [60 65]\n",
            " [70 75]]\n",
            "[[[60 65]\n",
            "  [70 75]]\n",
            "\n",
            " [[70 75]\n",
            "  [80 85]]\n",
            "\n",
            " [[80 85]\n",
            "  [90 95]]] => [[ 80  85]\n",
            " [ 90  95]\n",
            " [100 105]]\n",
            "[[110.573204 115.41678 ]]\n"
          ]
        }
      ]
    },
    {
      "cell_type": "markdown",
      "metadata": {
        "id": "wXi6l_ggrMx8"
      },
      "source": [
        "\n",
        "## Multivariate one step problem - different data for input and output\n"
      ]
    },
    {
      "cell_type": "code",
      "source": [
        "from numpy import array, hstack\n",
        "from keras.utils import timeseries_dataset_from_array\n",
        "import warnings\n",
        "\n",
        "warnings.filterwarnings(\"ignore\")\n",
        "\n",
        "# Define dataset\n",
        "in_seq1 = array([10, 20, 30, 40, 50, 60, 70, 80, 90, 100])\n",
        "in_seq2 = array([15, 25, 35, 45, 55, 65, 75, 85, 95, 105])\n",
        "out_seq = array([25, 45, 65, 85, 105, 125, 145, 165, 185, 205])\n",
        "\n",
        "# Reshape series\n",
        "in_seq1 = in_seq1.reshape((len(in_seq1), 1))\n",
        "in_seq2 = in_seq2.reshape((len(in_seq2), 1))\n",
        "out_seq = out_seq.reshape((len(out_seq), 1))\n",
        "\n",
        "# Horizontally stack columns for input data\n",
        "dataset = hstack((in_seq1, in_seq2))\n",
        "print(dataset)\n",
        "\n",
        "# Define parameters\n",
        "n_input = 1\n",
        "batch_size = 1\n",
        "\n",
        "# Create dataset using timeseries_dataset_from_array\n",
        "input_dataset = timeseries_dataset_from_array(\n",
        "    data=dataset,\n",
        "    targets=out_seq,\n",
        "    sequence_length=n_input,\n",
        "    sequence_stride=1,\n",
        "    batch_size=batch_size\n",
        ")\n",
        "\n",
        "# Print each sample\n",
        "for x, y in input_dataset:\n",
        "    print(f\"{x.numpy()} => {y.numpy()}\")\n"
      ],
      "metadata": {
        "colab": {
          "base_uri": "https://localhost:8080/"
        },
        "id": "tz8WYlI4UUbs",
        "outputId": "db47144d-ad33-42c7-867c-0541a21fa93e"
      },
      "execution_count": 8,
      "outputs": [
        {
          "output_type": "stream",
          "name": "stdout",
          "text": [
            "[[ 10  15]\n",
            " [ 20  25]\n",
            " [ 30  35]\n",
            " [ 40  45]\n",
            " [ 50  55]\n",
            " [ 60  65]\n",
            " [ 70  75]\n",
            " [ 80  85]\n",
            " [ 90  95]\n",
            " [100 105]]\n",
            "[[[10 15]]] => [[25]]\n",
            "[[[20 25]]] => [[45]]\n",
            "[[[30 35]]] => [[65]]\n",
            "[[[40 45]]] => [[85]]\n",
            "[[[50 55]]] => [[105]]\n",
            "[[[60 65]]] => [[125]]\n",
            "[[[70 75]]] => [[145]]\n",
            "[[[80 85]]] => [[165]]\n",
            "[[[90 95]]] => [[185]]\n",
            "[[[100 105]]] => [[205]]\n"
          ]
        }
      ]
    },
    {
      "cell_type": "code",
      "source": [
        "from numpy import array, hstack, insert\n",
        "from keras.utils import timeseries_dataset_from_array\n",
        "import warnings\n",
        "\n",
        "warnings.filterwarnings(\"ignore\")\n",
        "\n",
        "# Define dataset\n",
        "in_seq1 = array([10, 20, 30, 40, 50, 60, 70, 80, 90, 100])\n",
        "in_seq2 = array([15, 25, 35, 45, 55, 65, 75, 85, 95, 105])\n",
        "out_seq = array([25, 45, 65, 85, 105, 125, 145, 165, 185, 205])\n",
        "\n",
        "# Reshape series\n",
        "in_seq1 = in_seq1.reshape((len(in_seq1), 1))\n",
        "in_seq2 = in_seq2.reshape((len(in_seq2), 1))\n",
        "out_seq = out_seq.reshape((len(out_seq), 1))\n",
        "\n",
        "# Horizontally stack columns for input data\n",
        "dataset = hstack((in_seq1, in_seq2))\n",
        "print(dataset)\n",
        "\n",
        "# Shift the target sample by one step\n",
        "out_seq = insert(out_seq, 0, 0)  # Insert a 0 at the start\n",
        "print(out_seq)\n",
        "out_seq = out_seq[:-1]  # Remove the last value to align with the inputs\n",
        "print(out_seq)\n",
        "\n",
        "# Define parameters\n",
        "n_input = 1\n",
        "batch_size = 1\n",
        "\n",
        "# Create dataset using timeseries_dataset_from_array\n",
        "input_dataset = timeseries_dataset_from_array(\n",
        "    data=dataset,\n",
        "    targets=out_seq,\n",
        "    sequence_length=n_input,\n",
        "    sequence_stride=1,\n",
        "    batch_size=batch_size\n",
        ")\n",
        "\n",
        "# Print each sample\n",
        "for x, y in input_dataset:\n",
        "    print(f\"{x.numpy()} => {y.numpy()}\")\n"
      ],
      "metadata": {
        "colab": {
          "base_uri": "https://localhost:8080/"
        },
        "id": "qJf6IVohVtVX",
        "outputId": "2915bbaa-361e-4b49-989d-e8900900b788"
      },
      "execution_count": 9,
      "outputs": [
        {
          "output_type": "stream",
          "name": "stdout",
          "text": [
            "[[ 10  15]\n",
            " [ 20  25]\n",
            " [ 30  35]\n",
            " [ 40  45]\n",
            " [ 50  55]\n",
            " [ 60  65]\n",
            " [ 70  75]\n",
            " [ 80  85]\n",
            " [ 90  95]\n",
            " [100 105]]\n",
            "[  0  25  45  65  85 105 125 145 165 185 205]\n",
            "[  0  25  45  65  85 105 125 145 165 185]\n",
            "[[[10 15]]] => [0]\n",
            "[[[20 25]]] => [25]\n",
            "[[[30 35]]] => [45]\n",
            "[[[40 45]]] => [65]\n",
            "[[[50 55]]] => [85]\n",
            "[[[60 65]]] => [105]\n",
            "[[[70 75]]] => [125]\n",
            "[[[80 85]]] => [145]\n",
            "[[[90 95]]] => [165]\n",
            "[[[100 105]]] => [185]\n"
          ]
        }
      ]
    },
    {
      "cell_type": "markdown",
      "metadata": {
        "id": "W1vK-_ZZt98g"
      },
      "source": [
        " ## Univariate multi-step problem"
      ]
    },
    {
      "cell_type": "code",
      "source": [
        "from numpy import array\n",
        "from keras.utils import timeseries_dataset_from_array\n",
        "import warnings\n",
        "\n",
        "warnings.filterwarnings(\"ignore\")\n",
        "\n",
        "# Define dataset\n",
        "series = array([1, 2, 3, 4, 5, 6, 7, 8, 9, 10])\n",
        "target = array([[1, 2], [2, 3], [3, 4], [4, 5], [5, 6], [6, 7], [7, 8], [8, 9], [9, 10], [10, 11]])\n",
        "\n",
        "# Define parameters\n",
        "n_input = 2\n",
        "batch_size = 1\n",
        "\n",
        "# Create dataset using timeseries_dataset_from_array\n",
        "input_dataset = timeseries_dataset_from_array(\n",
        "    data=series[:-1],  # Exclude the last element for input sequences\n",
        "    targets=target[n_input:],  # Targets start after the first `n_input` elements\n",
        "    sequence_length=n_input,\n",
        "    sequence_stride=1,\n",
        "    batch_size=batch_size\n",
        ")\n",
        "\n",
        "# Print each sample\n",
        "for x, y in input_dataset:\n",
        "    print(f\"{x.numpy()} => {y.numpy()}\")\n"
      ],
      "metadata": {
        "colab": {
          "base_uri": "https://localhost:8080/"
        },
        "id": "DNLyivEEV4Z9",
        "outputId": "ae0a8aa1-3453-4d25-a186-ea0466f75776"
      },
      "execution_count": 10,
      "outputs": [
        {
          "output_type": "stream",
          "name": "stdout",
          "text": [
            "[[1 2]] => [[3 4]]\n",
            "[[2 3]] => [[4 5]]\n",
            "[[3 4]] => [[5 6]]\n",
            "[[4 5]] => [[6 7]]\n",
            "[[5 6]] => [[7 8]]\n",
            "[[6 7]] => [[8 9]]\n",
            "[[7 8]] => [[ 9 10]]\n",
            "[[8 9]] => [[10 11]]\n"
          ]
        }
      ]
    }
  ]
}