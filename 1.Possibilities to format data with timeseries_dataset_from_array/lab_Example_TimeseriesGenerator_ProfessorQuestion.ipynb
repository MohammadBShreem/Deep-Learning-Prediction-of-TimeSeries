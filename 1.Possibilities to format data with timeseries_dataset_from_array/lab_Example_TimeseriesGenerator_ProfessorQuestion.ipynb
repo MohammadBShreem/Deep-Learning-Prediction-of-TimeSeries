{
  "nbformat": 4,
  "nbformat_minor": 0,
  "metadata": {
    "colab": {
      "provenance": []
    },
    "kernelspec": {
      "name": "python3",
      "display_name": "Python 3"
    }
  },
  "cells": [
    {
      "cell_type": "markdown",
      "metadata": {
        "id": "aS7AKchxjUf9"
      },
      "source": [
        "## Univariate one step problem with mlp"
      ]
    },
    {
      "cell_type": "code",
      "metadata": {
        "id": "Imp2gVjKlnwU",
        "colab": {
          "base_uri": "https://localhost:8080/"
        },
        "outputId": "67e4c681-6e0e-45e1-abdd-e9eb0470ecdd"
      },
      "source": [
        "from numpy import array\n",
        "from keras.models import Sequential\n",
        "from keras.layers import Dense\n",
        "from keras.preprocessing.sequence import TimeseriesGenerator\n",
        "import warnings\n",
        "warnings.filterwarnings(\"ignore\")\n",
        "\n",
        "# Define dataset\n",
        "series = array([1, 2, 3, 4, 5, 6, 7, 8, 9, 10])\n",
        "\n",
        "# Define generator\n",
        "n_input = 2\n",
        "generator = TimeseriesGenerator(series, series, length=n_input, batch_size=5)\n",
        "\n",
        "# Print each data sample\n",
        "for i in range(len(generator)):\n",
        "\tx, y = generator[i]\n",
        "\tprint('%s => %s' % (x, y))\n",
        "\n",
        "# Define model\n",
        "model = Sequential()\n",
        "model.add(Dense(20, activation='relu', input_dim=n_input))\n",
        "model.add(Dense(1))\n",
        "model.compile(optimizer='adam', loss='mse')\n",
        "# Fit model\n",
        "model.fit(generator, steps_per_epoch=1, epochs=200, verbose=0)\n",
        "\n",
        "# Make a one step prediction out of sample\n",
        "x_input = array([9, 10]).reshape((1, n_input))\n",
        "print(x_input)\n",
        "y_output = model.predict(x_input, verbose=0)\n",
        "print(y_output)"
      ],
      "execution_count": null,
      "outputs": [
        {
          "output_type": "stream",
          "name": "stdout",
          "text": [
            "[[1 2]\n",
            " [2 3]\n",
            " [3 4]\n",
            " [4 5]\n",
            " [5 6]] => [3 4 5 6 7]\n",
            "[[6 7]\n",
            " [7 8]\n",
            " [8 9]] => [ 8  9 10]\n",
            "[[ 9 10]]\n",
            "[[11.451763]]\n"
          ]
        }
      ]
    },
    {
      "cell_type": "markdown",
      "metadata": {
        "id": "bB27Z66hkyMZ"
      },
      "source": [
        "## Univariate one step problem with LSTM"
      ]
    },
    {
      "cell_type": "code",
      "metadata": {
        "id": "LoRK3YQWl8eq",
        "colab": {
          "base_uri": "https://localhost:8080/"
        },
        "outputId": "b11b36d9-daa5-42e3-e5d2-40e487591f7a"
      },
      "source": [
        "from numpy import array\n",
        "from keras.models import Sequential\n",
        "from keras.layers import Dense\n",
        "from keras.layers import LSTM\n",
        "from keras.preprocessing.sequence import TimeseriesGenerator\n",
        "import warnings\n",
        "warnings.filterwarnings(\"ignore\")\n",
        "\n",
        "# Define dataset\n",
        "series = array([1, 2, 3, 4, 5, 6, 7, 8, 9, 10])\n",
        "print(series)\n",
        "\n",
        "# Reshape to [10, 1]\n",
        "n_features = 1\n",
        "series = series.reshape((len(series), n_features))\n",
        "print(series)\n",
        "\n",
        "# Define generator\n",
        "n_input = 2\n",
        "generator = TimeseriesGenerator(series, series, length=n_input, batch_size=5)\n",
        "\n",
        "# Print each sample\n",
        "for i in range(len(generator)):\n",
        "\tx, y = generator[i]\n",
        "\tprint('%s => %s' % (x, y))\n",
        "\n",
        "# Define model\n",
        "model = Sequential()\n",
        "model.add(LSTM(20, activation='relu', input_shape=(n_input, n_features)))\n",
        "model.add(Dense(1))\n",
        "model.compile(optimizer='adam', loss='mse')\n",
        "# Fit model\n",
        "model.fit(generator, steps_per_epoch=1, epochs=400, verbose=0)\n",
        "\n",
        "# Make a one step prediction out of sample\n",
        "x_input = array([9, 10]).reshape((1, n_input, n_features))\n",
        "y_output = model.predict(x_input, verbose=0)\n",
        "print(y_output)"
      ],
      "execution_count": null,
      "outputs": [
        {
          "output_type": "stream",
          "name": "stdout",
          "text": [
            "[ 1  2  3  4  5  6  7  8  9 10]\n",
            "[[ 1]\n",
            " [ 2]\n",
            " [ 3]\n",
            " [ 4]\n",
            " [ 5]\n",
            " [ 6]\n",
            " [ 7]\n",
            " [ 8]\n",
            " [ 9]\n",
            " [10]]\n",
            "[[[1]\n",
            "  [2]]\n",
            "\n",
            " [[2]\n",
            "  [3]]\n",
            "\n",
            " [[3]\n",
            "  [4]]\n",
            "\n",
            " [[4]\n",
            "  [5]]\n",
            "\n",
            " [[5]\n",
            "  [6]]] => [[3]\n",
            " [4]\n",
            " [5]\n",
            " [6]\n",
            " [7]]\n",
            "[[[6]\n",
            "  [7]]\n",
            "\n",
            " [[7]\n",
            "  [8]]\n",
            "\n",
            " [[8]\n",
            "  [9]]] => [[ 8]\n",
            " [ 9]\n",
            " [10]]\n",
            "[[11.8065]]\n"
          ]
        }
      ]
    },
    {
      "cell_type": "markdown",
      "metadata": {
        "id": "VI_66sHpqDiN"
      },
      "source": [
        "## Multivariate one step problem with LSTM - same data for input and output\n",
        "\n"
      ]
    },
    {
      "cell_type": "code",
      "metadata": {
        "id": "rfz-kHs2nuNA",
        "colab": {
          "base_uri": "https://localhost:8080/"
        },
        "outputId": "f241a168-a300-4916-f110-87665dd874a9"
      },
      "source": [
        "from numpy import array\n",
        "from numpy import hstack\n",
        "from keras.models import Sequential\n",
        "from keras.layers import Dense\n",
        "from keras.layers import LSTM\n",
        "from keras.preprocessing.sequence import TimeseriesGenerator\n",
        "import warnings\n",
        "warnings.filterwarnings(\"ignore\")\n",
        "\n",
        "# Define dataset\n",
        "in_seq1 = array([10, 20, 30, 40, 50, 60, 70, 80, 90, 100])\n",
        "in_seq2 = array([15, 25, 35, 45, 55, 65, 75, 85, 95, 105])\n",
        "# Reshape series\n",
        "in_seq1 = in_seq1.reshape((len(in_seq1), 1))\n",
        "in_seq2 = in_seq2.reshape((len(in_seq2), 1))\n",
        "# Horizontally stack columns\n",
        "dataset = hstack((in_seq1, in_seq2))\n",
        "print(dataset)\n",
        "\n",
        "# Define generator\n",
        "n_features = dataset.shape[1]\n",
        "print(\"n_features = %d\" % n_features)\n",
        "n_input = 2\n",
        "generator = TimeseriesGenerator(dataset, dataset, length=n_input, batch_size=5)\n",
        "\n",
        "# Print each sample\n",
        "for i in range(len(generator)):\n",
        "\tx, y = generator[i]\n",
        "\tprint('%s => %s' % (x, y))\n",
        "\n",
        "# Define model\n",
        "model = Sequential()\n",
        "model.add(LSTM(20, activation='relu', input_shape=(n_input, n_features)))\n",
        "model.add(Dense(2))\n",
        "model.compile(optimizer='adam', loss='mse')\n",
        "# Fit model\n",
        "model.fit(generator, steps_per_epoch=1, epochs=400, verbose=0)\n",
        "\n",
        "# Make a one step prediction out of sample\n",
        "x_input = array([[90, 95], [100, 105]]).reshape((1, n_input, n_features))\n",
        "y_output = model.predict(x_input, verbose=0)\n",
        "print(y_output)"
      ],
      "execution_count": null,
      "outputs": [
        {
          "output_type": "stream",
          "name": "stdout",
          "text": [
            "[[ 10  15]\n",
            " [ 20  25]\n",
            " [ 30  35]\n",
            " [ 40  45]\n",
            " [ 50  55]\n",
            " [ 60  65]\n",
            " [ 70  75]\n",
            " [ 80  85]\n",
            " [ 90  95]\n",
            " [100 105]]\n",
            "n_features = 2\n",
            "[[[10 15]\n",
            "  [20 25]]\n",
            "\n",
            " [[20 25]\n",
            "  [30 35]]\n",
            "\n",
            " [[30 35]\n",
            "  [40 45]]\n",
            "\n",
            " [[40 45]\n",
            "  [50 55]]\n",
            "\n",
            " [[50 55]\n",
            "  [60 65]]] => [[30 35]\n",
            " [40 45]\n",
            " [50 55]\n",
            " [60 65]\n",
            " [70 75]]\n",
            "[[[60 65]\n",
            "  [70 75]]\n",
            "\n",
            " [[70 75]\n",
            "  [80 85]]\n",
            "\n",
            " [[80 85]\n",
            "  [90 95]]] => [[ 80  85]\n",
            " [ 90  95]\n",
            " [100 105]]\n",
            "[[111.20885 116.2134 ]]\n"
          ]
        }
      ]
    },
    {
      "cell_type": "markdown",
      "metadata": {
        "id": "wXi6l_ggrMx8"
      },
      "source": [
        "\n",
        "## Multivariate one step problem - different data for input and output\n"
      ]
    },
    {
      "cell_type": "code",
      "metadata": {
        "id": "qO2kN4D5oid9",
        "colab": {
          "base_uri": "https://localhost:8080/"
        },
        "outputId": "ce7f013c-9fd0-4fd6-cd76-aa78fe29ef24"
      },
      "source": [
        "from numpy import array\n",
        "from numpy import hstack\n",
        "from keras.preprocessing.sequence import TimeseriesGenerator\n",
        "import warnings\n",
        "warnings.filterwarnings(\"ignore\")\n",
        "\n",
        "# Define dataset\n",
        "in_seq1 = array([10, 20, 30, 40, 50, 60, 70, 80, 90, 100])\n",
        "in_seq2 = array([15, 25, 35, 45, 55, 65, 75, 85, 95, 105])\n",
        "out_seq = array([25, 45, 65, 85, 105, 125, 145, 165, 185, 205])\n",
        "# Reshape series\n",
        "in_seq1 = in_seq1.reshape((len(in_seq1), 1))\n",
        "in_seq2 = in_seq2.reshape((len(in_seq2), 1))\n",
        "out_seq = out_seq.reshape((len(out_seq), 1))\n",
        "# horizontally stack columns\n",
        "dataset = hstack((in_seq1, in_seq2))\n",
        "print(dataset)\n",
        "\n",
        "# Define generator\n",
        "n_input = 1\n",
        "generator = TimeseriesGenerator(dataset, out_seq, length=n_input, batch_size=1)\n",
        "# print each sample\n",
        "for i in range(len(generator)):\n",
        "\tx, y = generator[i]\n",
        "\tprint('%s => %s' % (x, y))"
      ],
      "execution_count": null,
      "outputs": [
        {
          "output_type": "stream",
          "name": "stdout",
          "text": [
            "[[ 10  15]\n",
            " [ 20  25]\n",
            " [ 30  35]\n",
            " [ 40  45]\n",
            " [ 50  55]\n",
            " [ 60  65]\n",
            " [ 70  75]\n",
            " [ 80  85]\n",
            " [ 90  95]\n",
            " [100 105]]\n",
            "[[[10 15]]] => [[45]]\n",
            "[[[20 25]]] => [[65]]\n",
            "[[[30 35]]] => [[85]]\n",
            "[[[40 45]]] => [[105]]\n",
            "[[[50 55]]] => [[125]]\n",
            "[[[60 65]]] => [[145]]\n",
            "[[[70 75]]] => [[165]]\n",
            "[[[80 85]]] => [[185]]\n",
            "[[[90 95]]] => [[205]]\n"
          ]
        }
      ]
    },
    {
      "cell_type": "code",
      "metadata": {
        "id": "MrNrVILqo3Jh",
        "colab": {
          "base_uri": "https://localhost:8080/"
        },
        "outputId": "2a864d6a-92e9-4f08-cb77-45f7652e7500"
      },
      "source": [
        "# multivariate one step problem\n",
        "from numpy import array\n",
        "from numpy import hstack\n",
        "from numpy import insert\n",
        "from keras.preprocessing.sequence import TimeseriesGenerator\n",
        "import warnings\n",
        "warnings.filterwarnings(\"ignore\")\n",
        "\n",
        "# Define dataset\n",
        "in_seq1 = array([10, 20, 30, 40, 50, 60, 70, 80, 90, 100])\n",
        "in_seq2 = array([15, 25, 35, 45, 55, 65, 75, 85, 95, 105])\n",
        "out_seq = array([25, 45, 65, 85, 105, 125, 145, 165, 185, 205])\n",
        "# Reshape series\n",
        "in_seq1 = in_seq1.reshape((len(in_seq1), 1))\n",
        "in_seq2 = in_seq2.reshape((len(in_seq2), 1))\n",
        "out_seq = out_seq.reshape((len(out_seq), 1))\n",
        "# Horizontally stack columns\n",
        "dataset = hstack((in_seq1, in_seq2))\n",
        "print(dataset)\n",
        "\n",
        "# Shift the target sample by one step\n",
        "out_seq = insert(out_seq, 0, 0)\n",
        "print(out_seq)\n",
        "out_seq = out_seq[:-1]\n",
        "print(out_seq)\n",
        "\n",
        "# Define generator\n",
        "n_input = 1\n",
        "generator = TimeseriesGenerator(dataset, out_seq, length=n_input, batch_size=1)\n",
        "# print each sample\n",
        "for i in range(len(generator)):\n",
        "\tx, y = generator[i]\n",
        "\tprint('%s => %s' % (x, y))"
      ],
      "execution_count": null,
      "outputs": [
        {
          "output_type": "stream",
          "name": "stdout",
          "text": [
            "[[ 10  15]\n",
            " [ 20  25]\n",
            " [ 30  35]\n",
            " [ 40  45]\n",
            " [ 50  55]\n",
            " [ 60  65]\n",
            " [ 70  75]\n",
            " [ 80  85]\n",
            " [ 90  95]\n",
            " [100 105]]\n",
            "[  0  25  45  65  85 105 125 145 165 185 205]\n",
            "[  0  25  45  65  85 105 125 145 165 185]\n",
            "[[[10 15]]] => [25]\n",
            "[[[20 25]]] => [45]\n",
            "[[[30 35]]] => [65]\n",
            "[[[40 45]]] => [85]\n",
            "[[[50 55]]] => [105]\n",
            "[[[60 65]]] => [125]\n",
            "[[[70 75]]] => [145]\n",
            "[[[80 85]]] => [165]\n",
            "[[[90 95]]] => [185]\n"
          ]
        }
      ]
    },
    {
      "cell_type": "markdown",
      "metadata": {
        "id": "W1vK-_ZZt98g"
      },
      "source": [
        " ## Univariate multi-step problem"
      ]
    },
    {
      "cell_type": "code",
      "metadata": {
        "id": "IM0dkqWuqRow",
        "colab": {
          "base_uri": "https://localhost:8080/"
        },
        "outputId": "5843f90b-056e-4a9f-b522-2ac0e02f5554"
      },
      "source": [
        "from numpy import array\n",
        "from keras.preprocessing.sequence import TimeseriesGenerator\n",
        "import warnings\n",
        "warnings.filterwarnings(\"ignore\")\n",
        "\n",
        "# define dataset\n",
        "series = array([1, 2, 3, 4, 5, 6, 7, 8, 9, 10])\n",
        "target = array([[1,2],[2,3],[3,4],[4,5],[5,6],[6,7],[7,8],[8,9],[9,10],[10,11]])\n",
        "# define generator\n",
        "n_input = 2\n",
        "generator = TimeseriesGenerator(series, target, length=n_input, batch_size=1)\n",
        "# print each sample\n",
        "for i in range(len(generator)):\n",
        "\tx, y = generator[i]\n",
        "\tprint('%s => %s' % (x, y))"
      ],
      "execution_count": null,
      "outputs": [
        {
          "output_type": "stream",
          "name": "stdout",
          "text": [
            "[[1 2]] => [[3 4]]\n",
            "[[2 3]] => [[4 5]]\n",
            "[[3 4]] => [[5 6]]\n",
            "[[4 5]] => [[6 7]]\n",
            "[[5 6]] => [[7 8]]\n",
            "[[6 7]] => [[8 9]]\n",
            "[[7 8]] => [[ 9 10]]\n",
            "[[8 9]] => [[10 11]]\n"
          ]
        }
      ]
    }
  ]
}